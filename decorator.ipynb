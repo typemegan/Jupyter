{
 "cells": [
  {
   "cell_type": "markdown",
   "metadata": {},
   "source": [
    "### Contents\n",
    "- [装饰器](#decorator)\n",
    "    - [函数装饰器](#function_dec)\n",
    "    - [Class装饰器](#class_dec)\n",
    "    - [保持装饰前后函数属性一致](#dec_attr)\n",
    "    - [带参数的装饰器](#dec_para)\n",
    "    - [双重装饰](#dec_double)\n",
    "\n",
    "- [装饰器应用](#apply)\n",
    "    - [函数调用计数](#counter)\n",
    "    - [闭包-斐波那契数列](#closure_fibonacci)"
   ]
  },
  {
   "cell_type": "markdown",
   "metadata": {},
   "source": [
    "## <a id='decorator'>装饰器</a>"
   ]
  },
  {
   "cell_type": "markdown",
   "metadata": {},
   "source": [
    "### <a id='function_dec'>函数装饰器</a>\n",
    "\n",
    "接收函数作为参数，并返回函数"
   ]
  },
  {
   "cell_type": "code",
   "execution_count": 1,
   "metadata": {},
   "outputs": [],
   "source": [
    "'''\n",
    "定义装饰器\n",
    "'''\n",
    "def dec(func):\n",
    "    def wrapper(*args, **kwargs):  #保持与原func的参数一致\n",
    "        #do something\n",
    "        ret = func(*args, **kwargs)\n",
    "        #do something\n",
    "        return ret   #保证返回的数据结构与原func一致\n",
    "    print('decorated:', id(wrapper))  #每调用一次dec, 就重新定义一个wrapper\n",
    "    return wrapper"
   ]
  },
  {
   "cell_type": "code",
   "execution_count": 2,
   "metadata": {},
   "outputs": [
    {
     "name": "stdout",
     "output_type": "stream",
     "text": [
      "decorated: 4576949520\n"
     ]
    }
   ],
   "source": [
    "'''\n",
    "使用装饰器\n",
    "'''\n",
    "@dec     # -> foo = dec(foo) -> wrapper\n",
    "def foo():  \n",
    "    pass\n",
    "\n",
    "foo()   # -> wrapper()"
   ]
  },
  {
   "cell_type": "code",
   "execution_count": 3,
   "metadata": {},
   "outputs": [
    {
     "name": "stdout",
     "output_type": "stream",
     "text": [
      "decorated: 4576949792\n"
     ]
    }
   ],
   "source": [
    "@dec\n",
    "def bar(): \n",
    "    pass\n",
    "\n",
    "bar()"
   ]
  },
  {
   "cell_type": "markdown",
   "metadata": {},
   "source": [
    "### <a id='class_dec'>Class装饰器</a>\n",
    "```\n",
    "装饰器不一定是函数，也可以是class\n",
    "只是此时经修饰后返回的已经不再是函数，而是类实例\n",
    "class装饰器实际应用的是类实例的__call__方法\n",
    "```\n"
   ]
  },
  {
   "cell_type": "code",
   "execution_count": 6,
   "metadata": {},
   "outputs": [
    {
     "name": "stdout",
     "output_type": "stream",
     "text": [
      "initiating...\n"
     ]
    }
   ],
   "source": [
    "class A(object):\n",
    "    def __init__(self, func):  #在初始化实例时传入function\n",
    "        print('initiating...')\n",
    "        self.func = func\n",
    "    def __call__(self, *args, **kwargs): \n",
    "        #do something\n",
    "        print('calling...')\n",
    "        ret = self.func(*args, **kwargs)\n",
    "        #do something\n",
    "        return ret\n",
    "\n",
    "@A  # -> foo = A(foo), 此处创建一个A实例\n",
    "def foo():\n",
    "    pass"
   ]
  },
  {
   "cell_type": "code",
   "execution_count": 7,
   "metadata": {},
   "outputs": [
    {
     "data": {
      "text/plain": [
       "__main__.A"
      ]
     },
     "execution_count": 7,
     "metadata": {},
     "output_type": "execute_result"
    }
   ],
   "source": [
    "type(foo)"
   ]
  },
  {
   "cell_type": "code",
   "execution_count": 9,
   "metadata": {},
   "outputs": [
    {
     "name": "stdout",
     "output_type": "stream",
     "text": [
      "calling...\n"
     ]
    }
   ],
   "source": [
    "foo()  #调用A实例的call方法  instance.__call__()"
   ]
  },
  {
   "cell_type": "markdown",
   "metadata": {},
   "source": [
    "### <a id='dec_attr'>保持装饰前后属性一致</a>\n",
    "经装饰后的函数已经不是原函数，此时函数名、文档、所属模块都不是原函数的"
   ]
  },
  {
   "cell_type": "code",
   "execution_count": 22,
   "metadata": {},
   "outputs": [
    {
     "name": "stdout",
     "output_type": "stream",
     "text": [
      "wrapper , hi this is wrapper\n"
     ]
    }
   ],
   "source": [
    "def dec(func):\n",
    "    def wrapper():\n",
    "        \"hi this is wrapper\"\n",
    "        return func()\n",
    "    return wrapper\n",
    "\n",
    "@dec \n",
    "def foo():\n",
    "    \"hi this is foo\"\n",
    "    pass\n",
    "\n",
    "print(foo.__name__, ',', foo.__doc__)"
   ]
  },
  {
   "cell_type": "markdown",
   "metadata": {},
   "source": [
    "> 要保持前后一致可以对wrapper函数再装饰，将原函数的属性赋值给wrapper相应的属性："
   ]
  },
  {
   "cell_type": "code",
   "execution_count": 24,
   "metadata": {},
   "outputs": [
    {
     "name": "stdout",
     "output_type": "stream",
     "text": [
      "foo , hi this is foo\n"
     ]
    }
   ],
   "source": [
    "from functools import wraps\n",
    "def dec(func):\n",
    "    @wraps(func)  #属性转移\n",
    "    def wrapper():\n",
    "        \"hi this is wrapper\"\n",
    "        return func()\n",
    "    return wrapper\n",
    "\n",
    "@dec \n",
    "def foo():\n",
    "    \"hi this is foo\"\n",
    "    pass\n",
    "\n",
    "print(foo.__name__, ',', foo.__doc__)"
   ]
  },
  {
   "cell_type": "markdown",
   "metadata": {},
   "source": [
    "### <a id='dec_para'>带参数的装饰器</a>"
   ]
  },
  {
   "cell_type": "code",
   "execution_count": 12,
   "metadata": {},
   "outputs": [],
   "source": [
    "def weights(w):\n",
    "    def dec(func):\n",
    "        def wrapper(*args, **kwargs):\n",
    "            return w*func(*args, **kwargs)\n",
    "        return wrapper\n",
    "    return dec\n"
   ]
  },
  {
   "cell_type": "code",
   "execution_count": 15,
   "metadata": {},
   "outputs": [
    {
     "data": {
      "text/plain": [
       "4"
      ]
     },
     "execution_count": 15,
     "metadata": {},
     "output_type": "execute_result"
    }
   ],
   "source": [
    "@weights(2)  #加权2 -> foo = weights(2)(foo)\n",
    "def foo(x):\n",
    "    return x\n",
    "\n",
    "foo(2)"
   ]
  },
  {
   "cell_type": "code",
   "execution_count": 16,
   "metadata": {},
   "outputs": [
    {
     "data": {
      "text/plain": [
       "10"
      ]
     },
     "execution_count": 16,
     "metadata": {},
     "output_type": "execute_result"
    }
   ],
   "source": [
    "@weights(5)  #加权5\n",
    "def bar(x):\n",
    "    return x\n",
    "bar(2)"
   ]
  },
  {
   "cell_type": "markdown",
   "metadata": {},
   "source": [
    "### <a id='dec_double'>双重装饰</a>"
   ]
  },
  {
   "cell_type": "code",
   "execution_count": 18,
   "metadata": {},
   "outputs": [
    {
     "name": "stdout",
     "output_type": "stream",
     "text": [
      "decorating from A foo\n",
      "decorating from B wrapper\n"
     ]
    }
   ],
   "source": [
    "def double(name):\n",
    "    def dec(func):\n",
    "        print('decorating from', name,  func.__name__)\n",
    "        def wrapper(*args, **kwargs):\n",
    "            return func(*args, **kwargs)\n",
    "        return wrapper\n",
    "    return dec\n",
    "\n",
    "@double('B')\n",
    "@double('A')     #自下而上，从最挨着foo的装饰器开始装饰： -> foo = B(A(foo))\n",
    "def foo():\n",
    "    pass"
   ]
  },
  {
   "cell_type": "markdown",
   "metadata": {},
   "source": [
    "\n",
    "## <a id='apply'>装饰器应用</a>"
   ]
  },
  {
   "cell_type": "markdown",
   "metadata": {},
   "source": [
    "### <a id='counter'>函数调用计数</a>"
   ]
  },
  {
   "cell_type": "code",
   "execution_count": 5,
   "metadata": {},
   "outputs": [],
   "source": [
    "'''\n",
    "通过创建wrapper的函数属性来记录被装饰的\n",
    "'''\n",
    "from functools import wraps\n",
    "def call_count(func):\n",
    "    @wraps(func)\n",
    "    def wrapper(*args, **kwargs):\n",
    "        wrapper.count += 1   #跟踪计数该函数的调用\n",
    "        return func(*args, **kwargs)\n",
    "    wrapper.count = 0  #初始化刚刚定义函数的属性\n",
    "    return wrapper"
   ]
  },
  {
   "cell_type": "code",
   "execution_count": 6,
   "metadata": {},
   "outputs": [
    {
     "data": {
      "text/plain": [
       "2"
      ]
     },
     "execution_count": 6,
     "metadata": {},
     "output_type": "execute_result"
    }
   ],
   "source": [
    "@call_count\n",
    "def ff():\n",
    "    pass\n",
    "ff()\n",
    "ff()\n",
    "ff.count"
   ]
  },
  {
   "cell_type": "code",
   "execution_count": 7,
   "metadata": {},
   "outputs": [
    {
     "name": "stdout",
     "output_type": "stream",
     "text": [
      "0\n",
      "2\n"
     ]
    }
   ],
   "source": [
    "@call_count\n",
    "def bb():\n",
    "    pass\n",
    "print(bb.count)    #count属性跟随具体函数，不互相影响\n",
    "print(ff.count)"
   ]
  },
  {
   "cell_type": "markdown",
   "metadata": {},
   "source": [
    "### <a id='closure_fibonacci'>闭包-斐波那契数列</a>"
   ]
  },
  {
   "cell_type": "markdown",
   "metadata": {},
   "source": [
    "> Fibonacci递归调用次数:\n",
    "```\n",
    "1 -> 1\n",
    "2 -> 1\n",
    "3 -> 2, 1 -> 1+1+1=3\n",
    "4 -> 3, 2 -> 3+1+1=5\n",
    "5 -> 4, 3 -> 5+3+1=9\n",
    "...\n",
    "```"
   ]
  },
  {
   "cell_type": "code",
   "execution_count": 9,
   "metadata": {},
   "outputs": [
    {
     "name": "stdout",
     "output_type": "stream",
     "text": [
      "1 1\n",
      "2 1\n",
      "3 3\n",
      "4 5\n",
      "5 9\n",
      "6 15\n",
      "7 25\n",
      "8 41\n",
      "9 67\n",
      "10 109\n"
     ]
    }
   ],
   "source": [
    "'''\n",
    "考察Fibnacci递归调用次数\n",
    "'''\n",
    "def cal_calls(x):\n",
    "    @call_count    #这么写是为了单独给每个x定义一个新函数， 以便单独统计求第x个数时所调用的总次数\n",
    "    def fibonacci_recursive(n):\n",
    "        if n <= 1:\n",
    "            return 0\n",
    "        if n == 2:\n",
    "            return 1\n",
    "        return fibonacci_recursive(n-1) + fibonacci_recursive(n-2)\n",
    "    fibonacci_recursive(x)\n",
    "    print(x, fibonacci_recursive.count)\n",
    "\n",
    "for i in range(1,11):\n",
    "    cal_calls(i)"
   ]
  },
  {
   "cell_type": "markdown",
   "metadata": {},
   "source": [
    "> 记忆化后的递归调用次数：\n",
    "```\n",
    "1 -> 1\n",
    "2 -> 1\n",
    "3 -> 2,1 -> 1+1+1=3  本身调用也算一次\n",
    "4 -> 3,2 -> 3+1=4    跟原来不同，算到2以上时，2本身已经被算3时存下来了\n",
    "5 -> 4,3 -> 4+1=5   \n",
    "...\n",
    "```"
   ]
  },
  {
   "cell_type": "code",
   "execution_count": 10,
   "metadata": {},
   "outputs": [],
   "source": [
    "'''\n",
    "记忆：函数参数 -> 函数返回\n",
    "限制：函数参数可哈希，做字典的键\n",
    "'''\n",
    "def memorized(func):\n",
    "    mems = {}  #闭包, 存储中间结果\n",
    "    @wraps(func)\n",
    "    def wrapper(n):\n",
    "        if n not in mems:\n",
    "            wrapper.count += 1  #此为一次调用\n",
    "            mems[n] = func(n)  #只有没算过的才会调用\n",
    "        return mems[n]\n",
    "    wrapper.count = 0\n",
    "    return wrapper\n"
   ]
  },
  {
   "cell_type": "code",
   "execution_count": 11,
   "metadata": {},
   "outputs": [
    {
     "name": "stdout",
     "output_type": "stream",
     "text": [
      "1 1\n",
      "2 1\n",
      "3 3\n",
      "4 4\n",
      "5 5\n",
      "6 6\n",
      "7 7\n",
      "8 8\n",
      "9 9\n",
      "10 10\n"
     ]
    }
   ],
   "source": [
    "'''\n",
    "看看如果加了记忆存储后的调用次数会是多少\n",
    "'''\n",
    "def cal_call2(x):\n",
    "    @memorized\n",
    "    def fibonacci_recursive(n):   #单独为每个x定义一个斐波那契函数\n",
    "        if n <= 1:\n",
    "            return 0\n",
    "        if n == 2:\n",
    "            return 1\n",
    "        return fibonacci_recursive(n-1) + fibonacci_recursive(n-2)\n",
    "    fibonacci_recursive(x)\n",
    "    print(x, fibonacci_recursive.count)\n",
    "\n",
    "for i in range(1,11):\n",
    "    cal_call2(i)"
   ]
  },
  {
   "cell_type": "markdown",
   "metadata": {},
   "source": [
    "> 非递归方式实现斐波那契数列\n",
    "算法复杂度：\n",
    "```\n",
    "1 -> 1\n",
    "2 -> 1+1 -> 2  a移位1次\n",
    "3 -> 1+2 -> 3  a移位2次\n",
    "4 -> 1+3 -> 4  a移位3次\n",
    "5 -> 1+4 -> 5  a移位5次\n",
    "...\n",
    "```"
   ]
  },
  {
   "cell_type": "code",
   "execution_count": 12,
   "metadata": {},
   "outputs": [],
   "source": [
    "'''\n",
    "函数中没有引用过去的成果，记忆功能在此不起作用\n",
    "'''\n",
    "def fibonacci(n):\n",
    "    a, b = 0, 1\n",
    "    if n > 1:\n",
    "        for i in range(1, n):\n",
    "            a, b = b, a+b\n",
    "    return a"
   ]
  },
  {
   "cell_type": "code",
   "execution_count": 13,
   "metadata": {},
   "outputs": [
    {
     "data": {
      "text/plain": [
       "[0, 1, 1, 2, 3, 5, 8, 13, 21, 34]"
      ]
     },
     "execution_count": 13,
     "metadata": {},
     "output_type": "execute_result"
    }
   ],
   "source": [
    "[fibonacci(x) for x in range(1, 11)]"
   ]
  },
  {
   "cell_type": "code",
   "execution_count": null,
   "metadata": {},
   "outputs": [],
   "source": []
  }
 ],
 "metadata": {
  "kernelspec": {
   "display_name": "Python 3",
   "language": "python",
   "name": "python3"
  },
  "language_info": {
   "codemirror_mode": {
    "name": "ipython",
    "version": 3
   },
   "file_extension": ".py",
   "mimetype": "text/x-python",
   "name": "python",
   "nbconvert_exporter": "python",
   "pygments_lexer": "ipython3",
   "version": "3.6.4"
  }
 },
 "nbformat": 4,
 "nbformat_minor": 2
}
