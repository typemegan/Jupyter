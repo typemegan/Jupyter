{
 "cells": [
  {
   "cell_type": "markdown",
   "metadata": {},
   "source": [
    "```\n",
    "Write a generator with the name \"random_ones_and_zeroes\", which returns a bitstream, i.e. a zero or a one in \n",
    "every iteration. The probability p for returning a 1 is defined in a variable p. The generator will initialize \n",
    "this value to 0.5. This means that zeroes and ones will be returned with the same probability.\n",
    "```"
   ]
  },
  {
   "cell_type": "code",
   "execution_count": 1,
   "metadata": {},
   "outputs": [],
   "source": [
    "import random\n",
    "def bitstream():\n",
    "    p = 0.5\n",
    "    bits = [0,1]\n",
    "    while True:\n",
    "        if p > 0.5:\n",
    "            yield bits[1]\n",
    "        elif p < 0.5:\n",
    "            yield bits[0]\n",
    "        else:\n",
    "            yield random.choice(bits)\n",
    "        p = random.random()  #返回[0,1)之间的随机数"
   ]
  },
  {
   "cell_type": "code",
   "execution_count": 5,
   "metadata": {},
   "outputs": [
    {
     "data": {
      "text/plain": [
       "[1, 1, 1, 0, 0, 0, 0, 1, 0, 0]"
      ]
     },
     "execution_count": 5,
     "metadata": {},
     "output_type": "execute_result"
    }
   ],
   "source": [
    "bit = bitstream()\n",
    "[next(bit) for i in range(10)]"
   ]
  },
  {
   "cell_type": "markdown",
   "metadata": {},
   "source": [
    "```\n",
    "官网解答：\n",
    "p可以设置\n",
    "```"
   ]
  },
  {
   "cell_type": "code",
   "execution_count": 6,
   "metadata": {},
   "outputs": [],
   "source": [
    "import random\n",
    "def random_ones_and_zeroes():\n",
    "    p = 0.5\n",
    "    while True:\n",
    "        x = random.random() #probability for zero\n",
    "        msg = yield 1 if x<p else 0\n",
    "        if msg is not None:\n",
    "            p = msg"
   ]
  },
  {
   "cell_type": "code",
   "execution_count": 11,
   "metadata": {},
   "outputs": [
    {
     "name": "stdout",
     "output_type": "stream",
     "text": [
      "\n",
      "we set probability to 0.2\n",
      "0 0 0 0 0 0 1 0 0 0 0 0 0 0 0 0 0 0 0 1 0 0 0 0 1 0 0 1 0 0 \n",
      "we set probability to 0.5\n",
      "1 1 0 0 0 0 0 0 1 0 0 1 1 0 0 1 0 1 1 0 0 1 1 0 0 0 1 0 0 0 \n",
      "we set probability to 0.8\n",
      "1 1 0 1 1 1 1 1 1 1 1 1 1 1 1 1 1 1 1 1 1 1 1 1 1 1 1 1 1 0 \n",
      "we set probability to 0.9\n",
      "1 1 1 1 0 1 1 1 1 1 1 1 1 0 1 1 0 1 1 0 1 1 1 1 1 1 1 1 1 1 "
     ]
    }
   ],
   "source": [
    "gen = random_ones_and_zeroes()\n",
    "next(gen) #启动生成器\n",
    "for probability in [0.2, 0.5, 0.8, 0.9]:\n",
    "    print('\\nwe set probability to {}'.format(probability))\n",
    "    gen.send(probability)\n",
    "    for i in range(30):\n",
    "        print(next(gen), end=' ')"
   ]
  },
  {
   "cell_type": "code",
   "execution_count": null,
   "metadata": {},
   "outputs": [],
   "source": []
  }
 ],
 "metadata": {
  "kernelspec": {
   "display_name": "Python 3",
   "language": "python",
   "name": "python3"
  },
  "language_info": {
   "codemirror_mode": {
    "name": "ipython",
    "version": 3
   },
   "file_extension": ".py",
   "mimetype": "text/x-python",
   "name": "python",
   "nbconvert_exporter": "python",
   "pygments_lexer": "ipython3",
   "version": "3.6.4"
  }
 },
 "nbformat": 4,
 "nbformat_minor": 2
}
