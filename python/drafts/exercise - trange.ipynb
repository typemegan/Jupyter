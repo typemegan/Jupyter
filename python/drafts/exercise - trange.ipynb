{
 "cells": [
  {
   "cell_type": "markdown",
   "metadata": {},
   "source": [
    "```\n",
    "Write a generator \"trange\", which generates a sequence of time tuples from start to stop incremented by step. \n",
    "A time tuple is a 3-tuple of integers: (hours, minutes, seconds) \n",
    "    \n",
    "(10, 10, 10), (13, 50, 15), (0, 15, 12)\n",
    "\n",
    "start, stop, step\n",
    "\n",
    "hour: 10, 13, 0\n",
    "minute: 10, 50, 15\n",
    "second: 10, 50, 12 \n",
    "\n",
    "当hour > 13时结束循环 \n",
    "```"
   ]
  },
  {
   "cell_type": "markdown",
   "metadata": {},
   "source": [
    "> 实现一："
   ]
  },
  {
   "cell_type": "code",
   "execution_count": 155,
   "metadata": {},
   "outputs": [
    {
     "name": "stdout",
     "output_type": "stream",
     "text": [
      "(10, 10, 10)\n",
      "(10, 25, 22)\n",
      "(10, 40, 34)\n",
      "(10, 55, 46)\n",
      "(11, 10, 58)\n",
      "(11, 26, 10)\n",
      "(11, 41, 22)\n",
      "(11, 56, 34)\n",
      "(12, 11, 46)\n",
      "(12, 26, 58)\n",
      "(12, 42, 10)\n",
      "(12, 57, 22)\n",
      "(13, 12, 34)\n",
      "(13, 27, 46)\n",
      "(13, 42, 58)\n",
      "hour hits limit and minute suppasses limits, break\n"
     ]
    }
   ],
   "source": [
    "def normal_trange(starts, stops, steps):\n",
    "    hour, minute, second = starts\n",
    "    hour_index, min_index, sec_index = 0, 1, 2\n",
    "    while True:\n",
    "        if hour > stops[hour_index]:\n",
    "            print('hour suppasses limit, break')\n",
    "            break\n",
    "        if hour == stops[hour_index] and minute>stops[min_index]:\n",
    "            print('hour hits limit and minute suppasses limits, break')\n",
    "            break\n",
    "        if hour == stops[hour_index] and minute==stops[min_index] and second>stops[sec_index]:\n",
    "            print('hour, minute hit limits, and second suppasses limit, break')\n",
    "            break\n",
    "        print((hour, minute, second))\n",
    "        second += steps[sec_index]\n",
    "        if second >= 60:\n",
    "            second -= 60\n",
    "            minute += 1\n",
    "        minute += steps[min_index]\n",
    "        if minute >= 60:\n",
    "            minute -= 60\n",
    "            hour += 1\n",
    "            \n",
    "normal_trange((10, 10, 10), (13, 50, 15),(0, 15, 12))"
   ]
  },
  {
   "cell_type": "markdown",
   "metadata": {},
   "source": [
    "> 更妙的做法：直接进行tuple比较"
   ]
  },
  {
   "cell_type": "code",
   "execution_count": 156,
   "metadata": {},
   "outputs": [
    {
     "data": {
      "text/plain": [
       "True"
      ]
     },
     "execution_count": 156,
     "metadata": {},
     "output_type": "execute_result"
    }
   ],
   "source": [
    "(1,2,3) < (1,2,4)"
   ]
  },
  {
   "cell_type": "code",
   "execution_count": 157,
   "metadata": {},
   "outputs": [
    {
     "name": "stdout",
     "output_type": "stream",
     "text": [
      "2\n",
      "1\n",
      "0\n"
     ]
    }
   ],
   "source": [
    "for i in range(2,-1, -1):\n",
    "    print(i)"
   ]
  },
  {
   "cell_type": "code",
   "execution_count": 171,
   "metadata": {},
   "outputs": [],
   "source": [
    "def trange(starts, stops, steps):\n",
    "    print(starts, stops, steps)\n",
    "    hour_index, min_index, sec_index = 0, 1, 2\n",
    "    current = list(starts)\n",
    "    print(current)\n",
    "    while current <= list(stops):\n",
    "        yield current\n",
    "        hour, minute, second = current\n",
    "        second += steps[sec_index]\n",
    "        if second >= 60:\n",
    "            second -= 60\n",
    "            minute += 1\n",
    "        minute += steps[min_index]\n",
    "        if minute >= 60:\n",
    "            minute -= 60\n",
    "            hour += 1\n",
    "        if hour >= 24:\n",
    "            hour -= 24  #不要光看给出的stops限制，hour实际也要受到24小时限制\n",
    "        current = [hour, minute, second]"
   ]
  },
  {
   "cell_type": "code",
   "execution_count": 172,
   "metadata": {},
   "outputs": [
    {
     "name": "stdout",
     "output_type": "stream",
     "text": [
      "(10, 10, 10) (13, 50, 15) (0, 15, 12)\n",
      "[10, 10, 10]\n",
      "[10, 10, 10]\n",
      "[10, 25, 22]\n",
      "[10, 40, 34]\n",
      "[10, 55, 46]\n",
      "[11, 10, 58]\n",
      "[11, 26, 10]\n",
      "[11, 41, 22]\n",
      "[11, 56, 34]\n",
      "[12, 11, 46]\n",
      "[12, 26, 58]\n",
      "[12, 42, 10]\n",
      "[12, 57, 22]\n",
      "[13, 12, 34]\n",
      "[13, 27, 46]\n",
      "[13, 42, 58]\n"
     ]
    }
   ],
   "source": [
    "for time in trange((10, 10, 10), (13, 50, 15), (0, 15, 12)):\n",
    "    print(time)"
   ]
  },
  {
   "cell_type": "markdown",
   "metadata": {},
   "source": [
    "> 使trange可重新设置starts"
   ]
  },
  {
   "cell_type": "code",
   "execution_count": 160,
   "metadata": {},
   "outputs": [],
   "source": [
    "'可重新设置starts'\n",
    "def rtrange(stars, stops, steps):\n",
    "    hour_index, min_index, sec_index = 0, 1, 2\n",
    "    current = list(starts)\n",
    "    while current <= list(stops):\n",
    "        reset_starts = yield current\n",
    "        if reset_starts:\n",
    "            current = list(reset_starts)\n",
    "            continue   #这样初始值也能被打印出来，否则send完后就是yield的就是step之后的值了\n",
    "        hour, minute, second = current\n",
    "        second += steps[sec_index]\n",
    "        if second >= 60:\n",
    "            second -= 60\n",
    "            minute += 1\n",
    "        minute += steps[min_index]\n",
    "        if minute >= 60:\n",
    "            minute -= 60\n",
    "            hour += 1\n",
    "        if hour >= 24:\n",
    "            hour -= 24\n",
    "        current = [hour, minute, second]"
   ]
  },
  {
   "cell_type": "code",
   "execution_count": 161,
   "metadata": {},
   "outputs": [],
   "source": [
    "rt = rtrange((10, 10, 10), (13, 50, 15), (0, 15, 12))"
   ]
  },
  {
   "cell_type": "code",
   "execution_count": 162,
   "metadata": {},
   "outputs": [
    {
     "data": {
      "text/plain": [
       "[10, 10, 10]"
      ]
     },
     "execution_count": 162,
     "metadata": {},
     "output_type": "execute_result"
    }
   ],
   "source": [
    "next(rt)"
   ]
  },
  {
   "cell_type": "code",
   "execution_count": 163,
   "metadata": {},
   "outputs": [
    {
     "data": {
      "text/plain": [
       "[10, 25, 22]"
      ]
     },
     "execution_count": 163,
     "metadata": {},
     "output_type": "execute_result"
    }
   ],
   "source": [
    "next(rt)"
   ]
  },
  {
   "cell_type": "code",
   "execution_count": 164,
   "metadata": {},
   "outputs": [
    {
     "data": {
      "text/plain": [
       "[10, 40, 34]"
      ]
     },
     "execution_count": 164,
     "metadata": {},
     "output_type": "execute_result"
    }
   ],
   "source": [
    "next(rt)"
   ]
  },
  {
   "cell_type": "code",
   "execution_count": 165,
   "metadata": {},
   "outputs": [
    {
     "data": {
      "text/plain": [
       "[10, 23, 33]"
      ]
     },
     "execution_count": 165,
     "metadata": {},
     "output_type": "execute_result"
    }
   ],
   "source": [
    "rt.send([10,23,33])"
   ]
  },
  {
   "cell_type": "code",
   "execution_count": 166,
   "metadata": {},
   "outputs": [
    {
     "data": {
      "text/plain": [
       "[10, 38, 45]"
      ]
     },
     "execution_count": 166,
     "metadata": {},
     "output_type": "execute_result"
    }
   ],
   "source": [
    "next(rt)"
   ]
  },
  {
   "cell_type": "code",
   "execution_count": 175,
   "metadata": {},
   "outputs": [
    {
     "name": "stdout",
     "output_type": "stream",
     "text": [
      "(6, 0, 0) (13, 50, 15) (0, 1, 30)\n",
      "[6, 0, 0]\n",
      "06:00:00 16.2\n",
      "06:01:30 14.9\n",
      "06:03:00 18.3\n",
      "06:04:30 19.8\n",
      "06:06:00 16.1\n",
      "06:07:30 15.1\n",
      "06:09:00 22.3\n",
      "06:10:30 22.6\n",
      "06:12:00 11.3\n",
      "06:13:30 17.0\n",
      "06:15:00 11.5\n",
      "06:16:30 16.7\n",
      "06:18:00 12.9\n",
      "06:19:30 12.7\n",
      "06:21:00 10.8\n",
      "06:22:30 18.1\n",
      "06:24:00 19.9\n",
      "06:25:30 15.1\n",
      "06:27:00 15.5\n",
      "06:28:30 24.3\n",
      "06:30:00 16.9\n",
      "06:31:30 18.7\n",
      "06:33:00 23.0\n",
      "06:34:30 23.3\n",
      "06:36:00 18.5\n",
      "06:37:30 12.3\n",
      "06:39:00 24.8\n",
      "06:40:30 15.1\n",
      "06:42:00 16.9\n",
      "06:43:30 23.2\n",
      "06:45:00 18.4\n",
      "06:46:30 18.6\n",
      "06:48:00 15.8\n",
      "06:49:30 14.5\n",
      "06:51:00 21.4\n",
      "06:52:30 13.9\n",
      "06:54:00 14.0\n",
      "06:55:30 14.4\n",
      "06:57:00 11.0\n",
      "06:58:30 18.5\n",
      "07:00:00 13.8\n",
      "07:01:30 11.6\n",
      "07:03:00 14.7\n",
      "07:04:30 15.1\n",
      "07:06:00 10.9\n",
      "07:07:30 21.6\n",
      "07:09:00 12.6\n",
      "07:10:30 16.8\n",
      "07:12:00 17.9\n",
      "07:13:30 20.7\n",
      "07:15:00 23.9\n",
      "07:16:30 21.3\n",
      "07:18:00 15.3\n",
      "07:19:30 10.8\n",
      "07:21:00 11.6\n",
      "07:22:30 11.6\n",
      "07:24:00 19.0\n",
      "07:25:30 21.1\n",
      "07:27:00 23.7\n",
      "07:28:30 12.3\n",
      "07:30:00 18.7\n",
      "07:31:30 20.2\n",
      "07:33:00 15.5\n",
      "07:34:30 24.5\n",
      "07:36:00 19.2\n",
      "07:37:30 12.1\n",
      "07:39:00 14.5\n",
      "07:40:30 20.8\n",
      "07:42:00 11.6\n",
      "07:43:30 17.8\n",
      "07:45:00 19.6\n",
      "07:46:30 17.1\n",
      "07:48:00 11.4\n",
      "07:49:30 24.5\n",
      "07:51:00 19.4\n",
      "07:52:30 19.5\n",
      "07:54:00 11.3\n",
      "07:55:30 13.7\n",
      "07:57:00 20.8\n",
      "07:58:30 15.4\n",
      "08:00:00 24.3\n",
      "08:01:30 18.7\n",
      "08:03:00 10.6\n",
      "08:04:30 17.8\n",
      "08:06:00 13.2\n",
      "08:07:30 14.3\n",
      "08:09:00 21.4\n",
      "08:10:30 13.2\n",
      "08:12:00 20.4\n",
      "08:13:30 15.8\n",
      "08:15:00 14.4\n",
      "08:16:30 20.6\n",
      "08:18:00 12.1\n",
      "08:19:30 13.6\n",
      "08:21:00 20.6\n",
      "08:22:30 23.9\n",
      "08:24:00 15.0\n",
      "08:25:30 23.3\n",
      "08:27:00 22.5\n",
      "08:28:30 21.4\n",
      "08:30:00 15.6\n",
      "08:31:30 11.6\n",
      "08:33:00 10.0\n",
      "08:34:30 24.5\n",
      "08:36:00 13.5\n",
      "08:37:30 19.4\n",
      "08:39:00 23.6\n",
      "08:40:30 18.4\n",
      "08:42:00 20.0\n",
      "08:43:30 14.9\n",
      "08:45:00 12.9\n",
      "08:46:30 22.3\n",
      "08:48:00 16.1\n",
      "08:49:30 11.8\n",
      "08:51:00 10.4\n",
      "08:52:30 14.9\n",
      "08:54:00 17.2\n",
      "08:55:30 20.8\n",
      "08:57:00 19.6\n",
      "08:58:30 21.2\n",
      "09:00:00 20.5\n",
      "09:01:30 21.1\n",
      "09:03:00 17.5\n",
      "09:04:30 19.7\n",
      "09:06:00 21.1\n",
      "09:07:30 17.8\n",
      "09:09:00 13.2\n",
      "09:10:30 24.5\n",
      "09:12:00 13.4\n",
      "09:13:30 11.2\n",
      "09:15:00 19.4\n",
      "09:16:30 17.7\n",
      "09:18:00 14.1\n",
      "09:19:30 19.0\n",
      "09:21:00 15.2\n",
      "09:22:30 16.6\n",
      "09:24:00 14.9\n",
      "09:25:30 23.5\n",
      "09:27:00 10.3\n",
      "09:28:30 13.3\n",
      "09:30:00 10.1\n",
      "09:31:30 19.5\n",
      "09:33:00 24.0\n",
      "09:34:30 10.9\n",
      "09:36:00 13.8\n",
      "09:37:30 17.0\n",
      "09:39:00 18.3\n",
      "09:40:30 15.8\n",
      "09:42:00 12.6\n",
      "09:43:30 18.7\n",
      "09:45:00 14.8\n",
      "09:46:30 16.6\n",
      "09:48:00 14.6\n",
      "09:49:30 20.6\n",
      "09:51:00 22.6\n",
      "09:52:30 15.2\n",
      "09:54:00 18.8\n",
      "09:55:30 19.5\n",
      "09:57:00 22.3\n",
      "09:58:30 11.4\n",
      "10:00:00 13.8\n",
      "10:01:30 19.1\n",
      "10:03:00 14.6\n",
      "10:04:30 20.8\n",
      "10:06:00 21.8\n",
      "10:07:30 22.9\n",
      "10:09:00 17.1\n",
      "10:10:30 15.5\n",
      "10:12:00 11.4\n",
      "10:13:30 11.5\n",
      "10:15:00 14.9\n",
      "10:16:30 24.0\n",
      "10:18:00 22.5\n",
      "10:19:30 16.4\n",
      "10:21:00 13.0\n",
      "10:22:30 21.1\n",
      "10:24:00 10.3\n",
      "10:25:30 11.9\n",
      "10:27:00 19.3\n",
      "10:28:30 22.9\n",
      "10:30:00 21.3\n",
      "10:31:30 10.3\n",
      "10:33:00 15.6\n",
      "10:34:30 14.7\n",
      "10:36:00 18.7\n",
      "10:37:30 20.9\n",
      "10:39:00 24.6\n",
      "10:40:30 18.9\n",
      "10:42:00 12.2\n",
      "10:43:30 17.5\n",
      "10:45:00 12.9\n",
      "10:46:30 21.6\n",
      "10:48:00 17.5\n",
      "10:49:30 19.0\n",
      "10:51:00 24.5\n",
      "10:52:30 17.5\n",
      "10:54:00 15.5\n",
      "10:55:30 12.5\n",
      "10:57:00 18.4\n",
      "10:58:30 18.2\n",
      "11:00:00 16.2\n",
      "11:01:30 14.6\n",
      "11:03:00 20.5\n",
      "11:04:30 23.7\n",
      "11:06:00 11.9\n",
      "11:07:30 11.6\n",
      "11:09:00 24.9\n",
      "11:10:30 12.5\n",
      "11:12:00 16.8\n",
      "11:13:30 22.2\n",
      "11:15:00 10.3\n",
      "11:16:30 17.0\n",
      "11:18:00 24.6\n",
      "11:19:30 21.9\n",
      "11:21:00 18.8\n",
      "11:22:30 21.7\n",
      "11:24:00 19.9\n",
      "11:25:30 16.5\n",
      "11:27:00 10.8\n",
      "11:28:30 12.4\n",
      "11:30:00 17.0\n",
      "11:31:30 15.1\n",
      "11:33:00 12.5\n",
      "11:34:30 11.4\n",
      "11:36:00 20.3\n",
      "11:37:30 10.5\n",
      "11:39:00 23.4\n",
      "11:40:30 13.2\n",
      "11:42:00 13.3\n",
      "11:43:30 16.1\n",
      "11:45:00 18.7\n",
      "11:46:30 15.7\n",
      "11:48:00 12.9\n",
      "11:49:30 24.4\n",
      "11:51:00 19.6\n",
      "11:52:30 11.3\n",
      "11:54:00 19.0\n",
      "11:55:30 13.6\n",
      "11:57:00 10.4\n",
      "11:58:30 19.3\n",
      "12:00:00 19.9\n",
      "12:01:30 23.2\n",
      "12:03:00 15.6\n",
      "12:04:30 20.1\n",
      "12:06:00 13.5\n",
      "12:07:30 18.4\n",
      "12:09:00 11.6\n",
      "12:10:30 20.7\n",
      "12:12:00 11.3\n",
      "12:13:30 16.8\n",
      "12:15:00 10.7\n",
      "12:16:30 13.6\n",
      "12:18:00 14.4\n",
      "12:19:30 11.6\n",
      "12:21:00 11.4\n",
      "12:22:30 10.1\n",
      "12:24:00 16.6\n",
      "12:25:30 15.4\n",
      "12:27:00 15.2\n",
      "12:28:30 16.5\n",
      "12:30:00 14.0\n",
      "12:31:30 13.1\n",
      "12:33:00 15.5\n",
      "12:34:30 24.8\n",
      "12:36:00 23.7\n",
      "12:37:30 17.6\n",
      "12:39:00 20.7\n",
      "12:40:30 10.8\n",
      "12:42:00 14.4\n",
      "12:43:30 10.5\n",
      "12:45:00 16.1\n",
      "12:46:30 11.5\n",
      "12:48:00 21.8\n",
      "12:49:30 15.9\n",
      "12:51:00 23.1\n",
      "12:52:30 18.2\n",
      "12:54:00 21.0\n",
      "12:55:30 11.3\n",
      "12:57:00 24.7\n",
      "12:58:30 17.5\n",
      "13:00:00 12.5\n",
      "13:01:30 18.0\n",
      "13:03:00 16.4\n",
      "13:04:30 18.4\n",
      "13:06:00 10.5\n",
      "13:07:30 13.6\n",
      "13:09:00 11.4\n",
      "13:10:30 11.7\n",
      "13:12:00 20.5\n",
      "13:13:30 12.9\n",
      "13:15:00 15.1\n",
      "13:16:30 19.2\n",
      "13:18:00 24.0\n",
      "13:19:30 10.5\n",
      "13:21:00 23.4\n",
      "13:22:30 14.9\n",
      "13:24:00 20.1\n",
      "13:25:30 12.5\n",
      "13:27:00 18.8\n",
      "13:28:30 16.7\n",
      "13:30:00 23.6\n",
      "13:31:30 15.1\n",
      "13:33:00 17.3\n",
      "13:34:30 23.2\n",
      "13:36:00 11.0\n",
      "13:37:30 16.2\n",
      "13:39:00 10.0\n",
      "13:40:30 21.2\n",
      "13:42:00 15.9\n",
      "13:43:30 17.9\n",
      "13:45:00 17.5\n",
      "13:46:30 23.8\n",
      "13:48:00 19.7\n",
      "13:49:30 14.6\n"
     ]
    }
   ],
   "source": [
    "import random\n",
    "for i in trange((6,0,0), stops, (0,1,30)):\n",
    "    out_str=\"{hour:02d}:{minute:02d}:{second:02d} {temp:.1f}\"\n",
    "    print(out_str.format(hour=i[0], minute=i[1], second=i[2], temp=random.randrange(10, 25)+random.random()))"
   ]
  },
  {
   "cell_type": "code",
   "execution_count": null,
   "metadata": {},
   "outputs": [],
   "source": []
  }
 ],
 "metadata": {
  "kernelspec": {
   "display_name": "Python 3",
   "language": "python",
   "name": "python3"
  },
  "language_info": {
   "codemirror_mode": {
    "name": "ipython",
    "version": 3
   },
   "file_extension": ".py",
   "mimetype": "text/x-python",
   "name": "python",
   "nbconvert_exporter": "python",
   "pygments_lexer": "ipython3",
   "version": "3.6.4"
  }
 },
 "nbformat": 4,
 "nbformat_minor": 2
}
