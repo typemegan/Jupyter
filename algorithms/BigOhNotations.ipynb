{
 "cells": [
  {
   "cell_type": "code",
   "execution_count": 3,
   "metadata": {},
   "outputs": [],
   "source": [
    "def call_count(func):\n",
    "    def wrapper(*args, **kwargs):\n",
    "        wrapper.count += 1\n",
    "        return func(*args, **kwargs)\n",
    "    wrapper.count = 0\n",
    "    return wrapper"
   ]
  },
  {
   "cell_type": "code",
   "execution_count": 4,
   "metadata": {},
   "outputs": [
    {
     "name": "stdout",
     "output_type": "stream",
     "text": [
      "1\n"
     ]
    }
   ],
   "source": [
    "@call_count\n",
    "def func():\n",
    "    for i in range(10):\n",
    "        pass\n",
    "func()\n",
    "print(func.count)"
   ]
  },
  {
   "cell_type": "code",
   "execution_count": 5,
   "metadata": {},
   "outputs": [],
   "source": [
    "@call_count\n",
    "def fibonacci(n):\n",
    "    'fib: 1, 1, 2, 3, 5, 8, ...'\n",
    "    if n <= 0:\n",
    "        return 0\n",
    "    elif n <= 2:\n",
    "        return 1\n",
    "    else:\n",
    "        return fibonacci(n-1) + fibonacci(n-2)"
   ]
  },
  {
   "cell_type": "code",
   "execution_count": 6,
   "metadata": {},
   "outputs": [
    {
     "data": {
      "text/plain": [
       "1"
      ]
     },
     "execution_count": 6,
     "metadata": {},
     "output_type": "execute_result"
    }
   ],
   "source": [
    "fibonacci(1)"
   ]
  },
  {
   "cell_type": "code",
   "execution_count": 7,
   "metadata": {},
   "outputs": [
    {
     "data": {
      "text/plain": [
       "1"
      ]
     },
     "execution_count": 7,
     "metadata": {},
     "output_type": "execute_result"
    }
   ],
   "source": [
    "fibonacci.count"
   ]
  },
  {
   "cell_type": "code",
   "execution_count": 8,
   "metadata": {},
   "outputs": [
    {
     "data": {
      "text/plain": [
       "2"
      ]
     },
     "execution_count": 8,
     "metadata": {},
     "output_type": "execute_result"
    }
   ],
   "source": [
    "fibonacci(1)\n",
    "fibonacci.count"
   ]
  },
  {
   "cell_type": "code",
   "execution_count": 9,
   "metadata": {},
   "outputs": [
    {
     "name": "stdout",
     "output_type": "stream",
     "text": [
      "0 1\n",
      "1 1\n",
      "2 1\n",
      "3 3\n",
      "4 5\n",
      "5 9\n",
      "6 15\n",
      "7 25\n",
      "8 41\n",
      "9 67\n"
     ]
    }
   ],
   "source": [
    "for i in range(10):\n",
    "    fibonacci.count = 0\n",
    "    fibonacci(i)\n",
    "    print(i, fibonacci.count)"
   ]
  },
  {
   "cell_type": "code",
   "execution_count": 10,
   "metadata": {},
   "outputs": [
    {
     "data": {
      "text/plain": [
       "1.3862943611198906"
      ]
     },
     "execution_count": 10,
     "metadata": {},
     "output_type": "execute_result"
    }
   ],
   "source": [
    "import math\n",
    "math.log(4)"
   ]
  },
  {
   "cell_type": "code",
   "execution_count": 11,
   "metadata": {},
   "outputs": [
    {
     "data": {
      "text/plain": [
       "2.0"
      ]
     },
     "execution_count": 11,
     "metadata": {},
     "output_type": "execute_result"
    }
   ],
   "source": [
    "math.log(4)/math.log(2)"
   ]
  },
  {
   "cell_type": "code",
   "execution_count": 12,
   "metadata": {},
   "outputs": [
    {
     "name": "stdout",
     "output_type": "stream",
     "text": [
      "1 0.0\n",
      "2 2.0\n",
      "3 4.754887502163469\n",
      "4 8.0\n",
      "5 11.60964047443681\n",
      "6 15.509775004326936\n",
      "7 19.651484454403228\n",
      "8 24.0\n",
      "9 28.529325012980813\n",
      "10 33.219280948873624\n"
     ]
    }
   ],
   "source": [
    "for i in range(1, 11):\n",
    "    print(i, i*(math.log(i)/math.log(2)))"
   ]
  },
  {
   "cell_type": "code",
   "execution_count": 20,
   "metadata": {},
   "outputs": [
    {
     "name": "stdout",
     "output_type": "stream",
     "text": [
      "1     1      2        1      0.00     0.00    \n",
      "2     1      4        4      2.00     1.39    \n",
      "3     3      8        9      4.75     3.30    \n",
      "4     5      16       16     8.00     5.55    \n",
      "5     9      32       25     11.61    8.05    \n",
      "6     15     64       36     15.51    10.75   \n",
      "7     25     128      49     19.65    13.62   \n",
      "8     41     256      64     24.00    16.64   \n",
      "9     67     512      81     28.53    19.78   \n",
      "10    109    1024     100    33.22    23.03   \n",
      "11    177    2048     121    38.05    26.38   \n",
      "12    287    4096     144    43.02    29.82   \n",
      "13    465    8192     169    48.11    33.34   \n",
      "14    753    16384    196    53.30    36.95   \n",
      "15    1219   32768    225    58.60    40.62   \n",
      "16    1973   65536    256    64.00    44.36   \n",
      "17    3193   131072   289    69.49    48.16   \n",
      "18    5167   262144   324    75.06    52.03   \n",
      "19    8361   524288   361    80.71    55.94   \n",
      "20    13529  1048576  400    86.44    59.91   \n"
     ]
    }
   ],
   "source": [
    "for i in range(1,21):\n",
    "    fibonacci.count = 0\n",
    "    fibonacci(i)\n",
    "    print('{:<5d} {:<6d} {:<8d} {:<6d} {:<8.2f} {:<8.2f}'.format(\n",
    "                    i, \n",
    "                    fibonacci.count, \n",
    "                    2**i,\n",
    "                    #2*i, impossible\n",
    "                    i*i,\n",
    "                    i*(math.log(i)/math.log(2)),\n",
    "                    i*math.log(i)\n",
    "                    )\n",
    "         )"
   ]
  },
  {
   "cell_type": "code",
   "execution_count": 1,
   "metadata": {},
   "outputs": [
    {
     "data": {
      "text/plain": [
       "16"
      ]
     },
     "execution_count": 1,
     "metadata": {},
     "output_type": "execute_result"
    }
   ],
   "source": [
    "2**4"
   ]
  },
  {
   "cell_type": "code",
   "execution_count": null,
   "metadata": {},
   "outputs": [],
   "source": []
  }
 ],
 "metadata": {
  "kernelspec": {
   "display_name": "Python 3",
   "language": "python",
   "name": "python3"
  },
  "language_info": {
   "codemirror_mode": {
    "name": "ipython",
    "version": 3
   },
   "file_extension": ".py",
   "mimetype": "text/x-python",
   "name": "python",
   "nbconvert_exporter": "python",
   "pygments_lexer": "ipython3",
   "version": "3.6.4"
  }
 },
 "nbformat": 4,
 "nbformat_minor": 2
}
