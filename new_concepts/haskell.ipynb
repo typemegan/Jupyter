{
 "cells": [
  {
   "cell_type": "markdown",
   "metadata": {},
   "source": [
    "### contents\n",
    "- 什么是函数式编程"
   ]
  },
  {
   "cell_type": "markdown",
   "metadata": {},
   "source": [
    "##  函数式编程\n",
    "\n",
    "```\n",
    "冯诺依曼模型 - C语言， 除了问题抽象，还要关心计算机底层实现，内存、CPU、输入输出\n",
    "图灵机器 - 函数式编程（最纯粹的实现：haskell语言），不关心computer, 只关心computing（问题的抽象）\n",
    "\n",
    "函数式编程：数学\n",
    "1、至少有一个参数\n",
    "2、必须有返回\n",
    "3、任何时候对于的参数x, 返回不变\n",
    "```"
   ]
  },
  {
   "cell_type": "code",
   "execution_count": null,
   "metadata": {},
   "outputs": [],
   "source": []
  }
 ],
 "metadata": {
  "kernelspec": {
   "display_name": "Python 3",
   "language": "python",
   "name": "python3"
  },
  "language_info": {
   "codemirror_mode": {
    "name": "ipython",
    "version": 3
   },
   "file_extension": ".py",
   "mimetype": "text/x-python",
   "name": "python",
   "nbconvert_exporter": "python",
   "pygments_lexer": "ipython3",
   "version": "3.6.4"
  }
 },
 "nbformat": 4,
 "nbformat_minor": 2
}
